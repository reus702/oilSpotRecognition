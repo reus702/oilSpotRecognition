{
 "cells": [
  {
   "cell_type": "code",
   "execution_count": null,
   "metadata": {},
   "outputs": [],
   "source": [
    "import cv2\n",
    "import numpy as np"
   ]
  },
  {
   "cell_type": "code",
   "execution_count": null,
   "metadata": {},
   "outputs": [
    {
     "name": "stdout",
     "output_type": "stream",
     "text": [
      "Macchie d'olio rilevate!\n"
     ]
    },
    {
     "name": "stderr",
     "output_type": "stream",
     "text": [
      "2025-02-09 11:15:31.804 Python[16795:943697] +[IMKClient subclass]: chose IMKClient_Modern\n",
      "2025-02-09 11:15:31.804 Python[16795:943697] +[IMKInputSession subclass]: chose IMKInputSession_Modern\n"
     ]
    }
   ],
   "source": [
    "\n",
    "# Carica le immagini\n",
    "img_pulita = cv2.imread(\"datasetSuddiviso/UV1/PULITE.png\", cv2.IMREAD_GRAYSCALE)\n",
    "img_perdite = cv2.imread(\"datasetSuddiviso/UV1/PERDITE.png\", cv2.IMREAD_GRAYSCALE)\n",
    "img_vergine = cv2.imread(\"datasetSuddiviso/UV1/VERGINE.png\", cv2.IMREAD_GRAYSCALE)\n",
    "\n",
    "# Controlla se le immagini sono state caricate correttamente\n",
    "if img_pulita is None or img_perdite is None or img_vergine is None:\n",
    "    raise ValueError(\"Errore nel caricamento delle immagini. Verifica i percorsi.\")\n",
    "\n",
    "# Sottrai l'immagine pulita da quella vergine per evidenziare differenze\n",
    "differenza = cv2.absdiff(img_pulita, img_perdite)\n",
    "\n",
    "# Applica una soglia per isolare le macchie d'olio (valori bianchi)\n",
    "_, soglia = cv2.threshold(differenza, 200, 255, cv2.THRESH_BINARY)\n",
    "\n",
    "# Conta i pixel bianchi (presenza di macchie)\n",
    "macchie_count = cv2.countNonZero(soglia)\n",
    "\n",
    "# Definisci una soglia empirica per la presenza di macchie\n",
    "soglia_macchie = 500  # Modifica in base alla sensibilità desiderata\n",
    "\n",
    "if macchie_count > soglia_macchie:\n",
    "    print(\"Macchie d'olio rilevate!\")\n",
    "else:\n",
    "    print(\"Nessuna macchia d'olio rilevata.\")\n",
    "\n",
    "# Mostra le immagini di differenza e soglia\n",
    "cv2.imshow(\"Differenza\", differenza)\n",
    "cv2.imshow(\"Soglia\", soglia)\n",
    "cv2.waitKey(0)\n",
    "cv2.destroyAllWindows()\n"
   ]
  }
 ],
 "metadata": {
  "kernelspec": {
   "display_name": "myvenv",
   "language": "python",
   "name": "python3"
  },
  "language_info": {
   "codemirror_mode": {
    "name": "ipython",
    "version": 3
   },
   "file_extension": ".py",
   "mimetype": "text/x-python",
   "name": "python",
   "nbconvert_exporter": "python",
   "pygments_lexer": "ipython3",
   "version": "3.10.0"
  }
 },
 "nbformat": 4,
 "nbformat_minor": 2
}

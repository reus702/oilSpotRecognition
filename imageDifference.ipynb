{
 "cells": [
  {
   "cell_type": "code",
   "execution_count": 1,
   "metadata": {},
   "outputs": [],
   "source": [
    "import cv2 \n",
    "import numpy as np\n",
    "import imutils\n",
    "from skimage.metrics import structural_similarity as ssim"
   ]
  },
  {
   "cell_type": "code",
   "execution_count": 2,
   "metadata": {},
   "outputs": [
    {
     "name": "stdout",
     "output_type": "stream",
     "text": [
      "(3648, 5472)\n",
      "(3648, 5472)\n"
     ]
    }
   ],
   "source": [
    "image1_path = \"/Users/filipporeucci/oilSpotRecognition/datasetSuddiviso/UVG1/UVG1_PERDITE.png\"\n",
    "image2_path = \"/Users/filipporeucci/oilSpotRecognition/datasetSuddiviso/UVG1/UVG1_PULITE.png\"\n",
    "\n",
    "image1 = cv2.imread(image1_path, cv2.IMREAD_GRAYSCALE)\n",
    "image2 = cv2.imread(image2_path, cv2.IMREAD_GRAYSCALE)\n",
    "\n",
    "print(image1.shape)  \n",
    "print(image2.shape)  \n",
    "\n",
    "diff = cv2.absdiff(image1,image2)\n",
    "cv2.imshow(\"diff(image1,image2)\", diff)\n"
   ]
  },
  {
   "cell_type": "code",
   "execution_count": 3,
   "metadata": {},
   "outputs": [],
   "source": [
    "threshold = cv2.threshold(diff, 0, 255, cv2.THRESH_BINARY | cv2.THRESH_OTSU)[1]\n",
    "\n",
    "# Dilation\n",
    "kernel = np.ones((5,5), np.uint8)\n",
    "dilate = cv2.dilate(threshold, kernel, iterations=2)\n",
    "cv2.imshow(\"Dilation\", dilate)"
   ]
  },
  {
   "cell_type": "code",
   "execution_count": 4,
   "metadata": {},
   "outputs": [
    {
     "data": {
      "text/plain": [
       "'ssim_score = ssim(image1, image2, full=True)\\nprint(round(ssim_score[0], 2))'"
      ]
     },
     "execution_count": 4,
     "metadata": {},
     "output_type": "execute_result"
    }
   ],
   "source": [
    "'''ssim_score = ssim(image1, image2, full=True)\n",
    "print(round(ssim_score[0], 2))'''"
   ]
  },
  {
   "cell_type": "code",
   "execution_count": null,
   "metadata": {},
   "outputs": [
    {
     "name": "stderr",
     "output_type": "stream",
     "text": [
      "2025-02-12 15:28:27.731 Python[53210:2622861] +[IMKClient subclass]: chose IMKClient_Modern\n",
      "2025-02-12 15:28:27.731 Python[53210:2622861] +[IMKInputSession subclass]: chose IMKInputSession_Modern\n"
     ]
    }
   ],
   "source": [
    "# Contours\n",
    "contours = cv2.findContours(dilate.copy(), cv2.RETR_EXTERNAL, cv2.CHAIN_APPROX_SIMPLE)\n",
    "contours =  imutils.grab_contours(contours)\n",
    "\n",
    "for contour in contours:\n",
    "    if cv2.contourArea(contour) > 100:\n",
    "        x,y,w,h = cv2.boundingRect(contour)\n",
    "        cv2.rectangle(image1, (x,y), (x+w, y+h), (255,0,0), 2)\n",
    "        cv2.rectangle(image2, (x,y), (x+w, y+h), (255,0,0), 2)\n",
    "\n",
    "#x = np.zeros((image1.shape[0],image1.shape[1]), np.uint8)\n",
    "#print(x.shape)  \n",
    "#result = np.hstack((image1, x, image2))\n",
    "result = np.hstack((image1, image2))\n",
    "cv2.imshow(\"Differences\", result)\n",
    "cv2.waitKey(0)"
   ]
  },
  {
   "cell_type": "code",
   "execution_count": null,
   "metadata": {},
   "outputs": [
    {
     "name": "stderr",
     "output_type": "stream",
     "text": [
      "2025-02-12 15:18:06.652 Python[52661:2608427] +[IMKClient subclass]: chose IMKClient_Modern\n",
      "2025-02-12 15:18:06.652 Python[52661:2608427] +[IMKInputSession subclass]: chose IMKInputSession_Modern\n"
     ]
    }
   ],
   "source": [
    "import cv2\n",
    "image1_path = \"/Users/filipporeucci/oilSpotRecognition/datasetSuddiviso/UVG1/UVG1_PERDITE.png\"\n",
    "image2_path = \"/Users/filipporeucci/oilSpotRecognition/datasetSuddiviso/UVG1/UVG1_PULITE.png\"\n",
    "\n",
    "# Caricare immagine in scala di grigi\n",
    "image = cv2.imread(image1_path, cv2.IMREAD_GRAYSCALE)\n",
    "\n",
    "# Creare oggetto SIFT\n",
    "sift = cv2.SIFT_create()\n",
    "\n",
    "# Rilevare keypoints e descrittori\n",
    "keypoints, descriptors = sift.detectAndCompute(image, None)\n",
    "\n",
    "# Disegnare i keypoints sull'immagine\n",
    "image_sift = cv2.drawKeypoints(image, keypoints, None, flags=cv2.DRAW_MATCHES_FLAGS_DRAW_RICH_KEYPOINTS)\n",
    "\n",
    "# Mostrare il risultato\n",
    "cv2.imshow(\"SIFT Keypoints\", image_sift)\n",
    "cv2.waitKey(0)\n",
    "cv2.destroyAllWindows()\n"
   ]
  }
 ],
 "metadata": {
  "kernelspec": {
   "display_name": "myvenv",
   "language": "python",
   "name": "python3"
  },
  "language_info": {
   "codemirror_mode": {
    "name": "ipython",
    "version": 3
   },
   "file_extension": ".py",
   "mimetype": "text/x-python",
   "name": "python",
   "nbconvert_exporter": "python",
   "pygments_lexer": "ipython3",
   "version": "3.10.0"
  }
 },
 "nbformat": 4,
 "nbformat_minor": 2
}

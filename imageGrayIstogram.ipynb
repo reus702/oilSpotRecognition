{
 "cells": [
  {
   "cell_type": "code",
   "execution_count": 3,
   "metadata": {},
   "outputs": [],
   "source": [
    "!pip install -q opencv-python matplotlib\n"
   ]
  },
  {
   "cell_type": "code",
   "execution_count": 3,
   "metadata": {},
   "outputs": [],
   "source": [
    "import os, cv2, csv\n",
    "import numpy as np\n",
    "import matplotlib.pyplot as plt\n",
    "import pandas as pd"
   ]
  },
  {
   "cell_type": "code",
   "execution_count": null,
   "metadata": {},
   "outputs": [
    {
     "name": "stdout",
     "output_type": "stream",
     "text": [
      "Error: Specified folder does not exists.\n"
     ]
    },
    {
     "data": {
      "text/plain": [
       "'folder_path = \"datasetSuddiviso\"\\n\\nsubfolders = [f for f in os.listdir(folder_path)]\\nprint(subfolders)\\nfor subfolder in subfolders:\\n    if subfolder == \".DS_Store\":\\n        continue  # Salta il file .DS_Store\\n    process_images_from_folder(os.path.join(folder_path,subfolder))'"
      ]
     },
     "execution_count": 6,
     "metadata": {},
     "output_type": "execute_result"
    }
   ],
   "source": [
    "\n",
    "from cv2 import GaussianBlur\n",
    "\n",
    "# Generates a RGB histogram for a single image\n",
    "def plot_rgb_histogram(image_path):    \n",
    "    ddepth = cv2.CV_16S\n",
    "    kernel_size = 3\n",
    "    \n",
    "    image = cv2.imread(image_path, cv2.IMREAD_GRAYSCALE) # Load an image\n",
    "\n",
    "    # Apply Gaussian Blur - reduce noise\n",
    "    image = cv2.GaussianBlur(image, (3, 3), 0)\n",
    "    \n",
    "    # Apply Laplace function\n",
    "    dst = cv2.Laplacian(image, ddepth, ksize=kernel_size) \n",
    "    \n",
    "    # converting back to uint8\n",
    "    abs_dst = cv2.convertScaleAbs(dst)\n",
    "    \n",
    "    hist_gray = cv2.calcHist([abs_dst], [0], None, [256], [0, 256])\n",
    "    return hist_gray\n",
    "\n",
    "def process_images_from_folder(folder_path):\n",
    "    if not os.path.exists(folder_path):\n",
    "        print(\"Error: Specified folder does not exists.\")\n",
    "        return\n",
    "    \n",
    "    image_files = [f for f in os.listdir(folder_path) if f.lower().endswith(('png', 'jpg', 'jpeg', 'webp', 'tiff'))]\n",
    "    if not image_files:\n",
    "        print(\"No images found in the folder.\")\n",
    "        return\n",
    "    \n",
    "    histograms_list = []\n",
    "    \n",
    "    for image_file in image_files:\n",
    "        image_path = os.path.join(folder_path, image_file)\n",
    "        hist = plot_rgb_histogram(image_path)  \n",
    "        histograms_list.append((image_file, hist))\n",
    "    \n",
    "    distance_matrix = pd.DataFrame(0, index=image_files, columns=image_files, dtype='float64')\n",
    "\n",
    "    # Calculating distance between images histograms\n",
    "    for i in range(len(histograms_list)):\n",
    "        for j in range(i, len(histograms_list)):\n",
    "            image1, hist1 = histograms_list[i]\n",
    "            image2, hist2 = histograms_list[j]\n",
    "            \n",
    "            total_distance = 0\n",
    "            #total_distance +=  cv2.compareHist(hist1, hist2, cv2.HISTCMP_CORREL) \n",
    "            total_distance +=  cv2.compareHist(hist1, hist2, cv2.HISTCMP_BHATTACHARYYA) #distance between histograms\n",
    "            #total_distance = 1 - total_distance # distance = 0 means images are equals\n",
    "\n",
    "            distance_matrix.loc[image1, image2] = total_distance #distance values\n",
    "            distance_matrix.loc[image2, image1] = total_distance\n",
    "            \n",
    "    distance_matrix.to_csv(os.path.join(folder_path,\"distance_matrix.csv\"))\n",
    "\n",
    "#folder_path = \"datasetSuddiviso/UV50\"\n",
    "folder_path = \"datasetSuddiviso\"\n",
    "\n",
    "subfolders = [f for f in os.listdir(folder_path)]\n",
    "print(subfolders)\n",
    "for subfolder in subfolders:\n",
    "    if subfolder == \".DS_Store\":\n",
    "        continue  # Salta il file .DS_Store\n",
    "    process_images_from_folder(os.path.join(folder_path,subfolder))"
   ]
  }
 ],
 "metadata": {
  "kernelspec": {
   "display_name": "myvenv",
   "language": "python",
   "name": "python3"
  },
  "language_info": {
   "codemirror_mode": {
    "name": "ipython",
    "version": 3
   },
   "file_extension": ".py",
   "mimetype": "text/x-python",
   "name": "python",
   "nbconvert_exporter": "python",
   "pygments_lexer": "ipython3",
   "version": "3.10.0"
  }
 },
 "nbformat": 4,
 "nbformat_minor": 2
}

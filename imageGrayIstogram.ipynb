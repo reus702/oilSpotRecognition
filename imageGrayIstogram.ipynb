{
 "cells": [
  {
   "cell_type": "code",
   "execution_count": 1,
   "metadata": {},
   "outputs": [
    {
     "name": "stdout",
     "output_type": "stream",
     "text": [
      "\u001b[33mWARNING: You are using pip version 21.2.3; however, version 25.0 is available.\n",
      "You should consider upgrading via the '/Users/filipporeucci/oilSpotRecognition/myvenv/bin/python3 -m pip install --upgrade pip' command.\u001b[0m\n"
     ]
    }
   ],
   "source": [
    "!pip install -q opencv-python matplotlib\n"
   ]
  },
  {
   "cell_type": "code",
   "execution_count": 2,
   "metadata": {},
   "outputs": [],
   "source": [
    "import os, cv2, csv\n",
    "import numpy as np\n",
    "import matplotlib.pyplot as plt\n",
    "import pandas as pd\n",
    "from cv2 import GaussianBlur\n",
    "from skimage import metrics\n",
    "from skimage.metrics import structural_similarity as ssim\n",
    "#from image_hclustering import clusterMatrixMain"
   ]
  },
  {
   "cell_type": "code",
   "execution_count": 3,
   "metadata": {},
   "outputs": [],
   "source": [
    "def plot_histogram(image_path):    \n",
    "    ddepth = cv2.CV_16S\n",
    "    kernel_size = 3\n",
    "    \n",
    "    image = cv2.imread(image_path, cv2.IMREAD_GRAYSCALE) # Load an image\n",
    "\n",
    "    image = cv2.GaussianBlur(image, (3, 3), 0) # Apply Gaussian Blur - reduce noise\n",
    "    \n",
    "    dst = cv2.Laplacian(image, ddepth, ksize=kernel_size) # Apply Laplace function\n",
    "    \n",
    "    abs_dst = cv2.convertScaleAbs(dst) # Converting back to uint8\n",
    "    \n",
    "    hist_gray = cv2.calcHist([abs_dst], [0], None, [256], [0, 256]) # Calculate histogram\n",
    "    return hist_gray"
   ]
  },
  {
   "cell_type": "code",
   "execution_count": 4,
   "metadata": {},
   "outputs": [],
   "source": [
    "def getSSIM(image1_path,image2_path):\n",
    "    image1 = cv2.imread(image1_path, cv2.IMREAD_GRAYSCALE) # Load an image\n",
    "    image2 = cv2.imread(image2_path, cv2.IMREAD_GRAYSCALE) # Load an image\n",
    "\n",
    "    return ssim(image1, image2, full=True)\n"
   ]
  },
  {
   "cell_type": "code",
   "execution_count": 5,
   "metadata": {},
   "outputs": [],
   "source": [
    "def getLabel(image1,image2):\n",
    "     # Extract label from image name file\n",
    "    image1 = image1.split(\"_\")[1].split(\".\")[0]\n",
    "    image2 = image2.split(\"_\")[1].split(\".\")[0]\n",
    "    label = \"_\".join(sorted([image1, image2]))\n",
    "    return label"
   ]
  },
  {
   "cell_type": "code",
   "execution_count": 6,
   "metadata": {},
   "outputs": [],
   "source": [
    "#Creating distance matrix between the histograms contained in the directory\n",
    "def features_extraction(histograms_list, image_files, folder_path):\n",
    "    image_files = str(image_files)\n",
    "    #pathImages = os.path(image_files)\n",
    "    featuresFile = []\n",
    "    \n",
    "    # Calculating distance between images histograms\n",
    "    for i in range(len(histograms_list)):\n",
    "        for j in range(i, len(histograms_list)):\n",
    "            image1, hist1 = histograms_list[i]\n",
    "            image2, hist2 = histograms_list[j]\n",
    "            \n",
    "            total_distance = 0\n",
    "            #total_distance += cv2.compareHist(hist1, hist2, cv2.HISTCMP_CORREL) \n",
    "            total_distance +=  cv2.compareHist(hist1, hist2, cv2.HISTCMP_BHATTACHARYYA) # Distance between histograms\n",
    "            #total_distance = 1 - total_distance    # Distance = 0 means images are equals\n",
    "            \n",
    "            if image1 != image2:\n",
    "                ssim_score = getSSIM(os.path.join(folder_path, image1), os.path.join(folder_path, image2))\n",
    "                label = getLabel(image1,image2)\n",
    "                featuresFile.append([image1, image2, total_distance, round(ssim_score[0], 2), label])\n",
    "                \n",
    "    return featuresFile "
   ]
  },
  {
   "cell_type": "code",
   "execution_count": 7,
   "metadata": {},
   "outputs": [],
   "source": [
    "#Process the images in a directory creating histogram and distance matrix\n",
    "def process_images_from_folder(folder_path):\n",
    "    if not os.path.exists(folder_path):\n",
    "        print(\"Error: Specified folder does not exists.\")\n",
    "        return None\n",
    "    \n",
    "    image_files = [f for f in os.listdir(folder_path) if f.lower().endswith(('png', 'jpg', 'jpeg', 'webp', 'tiff'))]\n",
    "    if not image_files:\n",
    "        print(\"No images found in the folder.\")\n",
    "        return None\n",
    "    \n",
    "    histograms_list = []\n",
    "    for image_file in image_files: \n",
    "        image_path = os.path.join(folder_path, image_file)\n",
    "        hist = plot_histogram(image_path)  \n",
    "        histograms_list.append((image_file, hist))\n",
    "        #label.append([image_file, image_file.split(\"_\")[1].split(\".\")[0]]) # Creating label record for labels.csv file\n",
    "    \n",
    "    features = features_extraction(histograms_list, image_files, folder_path)\n",
    "\n",
    "    return features\n"
   ]
  },
  {
   "cell_type": "code",
   "execution_count": 8,
   "metadata": {},
   "outputs": [],
   "source": [
    "import sys\n",
    "import pandas as pd\n",
    "import numpy as np\n",
    "from sklearn.metrics import *\n",
    "from sklearn.cluster import *\n",
    "from sklearn import metrics\n",
    "import os\n",
    "\n",
    "\n",
    "def clusterMatrixMain(total_distance_matrix_path,total_labels_path):\n",
    "    # Path of the total distance matrix\n",
    "    distance_matrix = pd.read_csv(total_distance_matrix_path, sep=\",\", header=None, index_col=None)\n",
    "    labels = pd.read_csv(total_labels_path, sep=\",\")\n",
    "\n",
    "    distance_matrix = distance_matrix.drop(index=distance_matrix.index[0], columns=distance_matrix.columns[0])\n",
    "    n_clusters = 3\n",
    "    \n",
    "    # Read the true lables assigned to every Id \n",
    "    labels_true = list(labels[\"Label\"])\n",
    "    \n",
    "    # Execute clustering with single linkage and determines the predicted labels for each molecule\n",
    "    model = AgglomerativeClustering(n_clusters=n_clusters, linkage ='single').fit(distance_matrix)\n",
    "\n",
    "    labels_pred = model.fit_predict(distance_matrix)\n",
    "\n",
    "    # Compute the metrics and print the evaluations\n",
    "    print(\"Method: single\")\n",
    "    print(\"Rand_score\", metrics.rand_score(labels_true, labels_pred))\n",
    "    print(\"Homogeneity_score\", metrics.homogeneity_score(labels_true, labels_pred))\n",
    "    print(\"Completeness_score\", metrics.completeness_score(labels_true, labels_pred))\n",
    "        \n",
    "    # Execute clustering with complete linkage and determines the predicted labels for each molecule\n",
    "\n",
    "    model = AgglomerativeClustering(n_clusters=n_clusters, linkage ='complete').fit(distance_matrix)\n",
    "    labels_pred = model.fit_predict(distance_matrix)\n",
    "\n",
    "    # Compute the metrics and print the evaluations\n",
    "    print(\"Method: complete\")\n",
    "    print(\"Rand_score\", metrics.rand_score(labels_true, labels_pred))\n",
    "    print(\"Homogeneity_score\", metrics.homogeneity_score(labels_true, labels_pred))\n",
    "    print(\"Completeness_score\", metrics.completeness_score(labels_true, labels_pred))\n",
    "\n",
    "\n",
    "    # Execute clustering with average linkage and determines the predicted labels for each molecule\n",
    "\n",
    "    model = AgglomerativeClustering(n_clusters=n_clusters, linkage ='average').fit(distance_matrix)\n",
    "    labels_pred = model.fit_predict(distance_matrix)\n",
    "\n",
    "    # Compute the metrics and print the evaluations\n",
    "    print(\"Method: average\")\n",
    "    print(\"Rand_score\", metrics.rand_score(labels_true, labels_pred))\n",
    "    print(\"Homogeneity_score\", metrics.homogeneity_score(labels_true, labels_pred))\n",
    "    print(\"Completeness_score\", metrics.completeness_score(labels_true, labels_pred))\n"
   ]
  },
  {
   "cell_type": "code",
   "execution_count": 9,
   "metadata": {},
   "outputs": [],
   "source": [
    "folder_path = \"datasetSuddiviso\"\n",
    "subfolders = [f for f in os.listdir(folder_path) if os.path.isdir(os.path.join(folder_path, f))]\n",
    "total_distance_matrix = None\n",
    "total_features = []\n",
    "\n",
    "for subfolder in subfolders: \n",
    "    subfolder_path = os.path.join(folder_path, subfolder)\n",
    "    features = process_images_from_folder(subfolder_path) # Distance matrix between images in the subfolder \n",
    "    \n",
    "    total_features.extend(features)\n",
    "\n",
    "total_features_path = os.path.join(folder_path, \"features.csv\")\n",
    "\n",
    "pd.DataFrame(total_features, columns=[\"Image1\", \"Image2\", \"Histogram Distance\",\"SSIM\", \"Label\"]).to_csv(total_features_path,index=False)"
   ]
  },
  {
   "cell_type": "code",
   "execution_count": 10,
   "metadata": {},
   "outputs": [],
   "source": [
    "#clusterMatrixMain(total_distance_matrix_path=total_distance_matrix_path,total_labels_path=total_labels_path)\n",
    "\n"
   ]
  }
 ],
 "metadata": {
  "kernelspec": {
   "display_name": "myvenv",
   "language": "python",
   "name": "python3"
  },
  "language_info": {
   "codemirror_mode": {
    "name": "ipython",
    "version": 3
   },
   "file_extension": ".py",
   "mimetype": "text/x-python",
   "name": "python",
   "nbconvert_exporter": "python",
   "pygments_lexer": "ipython3",
   "version": "3.10.0"
  }
 },
 "nbformat": 4,
 "nbformat_minor": 2
}

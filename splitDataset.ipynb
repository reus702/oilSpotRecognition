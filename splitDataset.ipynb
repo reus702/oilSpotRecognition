{
 "cells": [
  {
   "cell_type": "code",
   "execution_count": 1,
   "metadata": {},
   "outputs": [],
   "source": [
    "import os, shutil"
   ]
  },
  {
   "cell_type": "code",
   "execution_count": 21,
   "metadata": {},
   "outputs": [],
   "source": [
    "def process_images_from_folder(input_folder_path, output_folder_path):\n",
    "    if not os.path.exists(input_folder_path) or not os.path.exists(output_folder_path):\n",
    "        print(\"Errore: La cartella specificata non esiste.\")\n",
    "        return\n",
    "    \n",
    "    input_vergini = os.path.join(input_folder_path, \"B6\")\n",
    "    input_pulite = os.path.join(input_folder_path, \"D6\")\n",
    "    input_perdite = os.path.join(input_folder_path, \"F6\")\n",
    "\n",
    "    image_files_vergini = sorted([f for f in os.listdir(input_vergini) if f.lower().endswith(('png', 'jpg', 'jpeg', 'webp'))])\n",
    "    image_files_pulite = sorted([f for f in os.listdir(input_pulite) if f.lower().endswith(('png', 'jpg', 'jpeg', 'webp'))])\n",
    "    image_files_perdite = sorted([f for f in os.listdir(input_perdite) if f.lower().endswith(('png', 'jpg', 'jpeg', 'webp'))])\n",
    "    \n",
    "    for image_file in image_files_vergini:\n",
    "        index_file = image_files_vergini.index(image_file)\n",
    "        output_path = os.path.join(output_folder_path,(\"UV\" + str(index_file + 1)))\n",
    "\n",
    "        os.makedirs(output_path, exist_ok=True)\n",
    "\n",
    "        shutil.copy(os.path.join(input_vergini,image_file), output_path)\n",
    "        shutil.copy(os.path.join(input_pulite,image_files_pulite[index_file]), output_path)\n",
    "        shutil.copy(os.path.join(input_perdite, image_files_perdite[index_file]), output_path)\n",
    "        \n",
    "input_folder_path = \"dataset\"\n",
    "output_folder_path = \"/Users/filipporeucci/Desktop/datasetSuddiviso\"\n",
    "process_images_from_folder(input_folder_path, output_folder_path)"
   ]
  }
 ],
 "metadata": {
  "kernelspec": {
   "display_name": "myvenv",
   "language": "python",
   "name": "python3"
  },
  "language_info": {
   "codemirror_mode": {
    "name": "ipython",
    "version": 3
   },
   "file_extension": ".py",
   "mimetype": "text/x-python",
   "name": "python",
   "nbconvert_exporter": "python",
   "pygments_lexer": "ipython3",
   "version": "3.10.0"
  }
 },
 "nbformat": 4,
 "nbformat_minor": 2
}
